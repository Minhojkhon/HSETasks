{
  "nbformat": 4,
  "nbformat_minor": 0,
  "metadata": {
    "colab": {
      "provenance": []
    },
    "kernelspec": {
      "name": "python3",
      "display_name": "Python 3"
    },
    "language_info": {
      "name": "python"
    }
  },
  "cells": [
    {
      "cell_type": "markdown",
      "source": [
        "# Домашнее задание 3\n",
        "\n",
        "**Выполнил:** Бабаев Минходжхон Зафарович\n",
        "\n",
        "**На сколько выполнил:** 8"
      ],
      "metadata": {
        "id": "zmiXZzivobao"
      }
    },
    {
      "cell_type": "markdown",
      "source": [
        "**Правила игры:**\n",
        "\n",
        "* возле каждой задачи указано число баллов (в сококупности можно получить 10 баллов)\n",
        "\n",
        "* хотим чистый, читабельный код, сайты - с user-friendly интерфейсом)\n",
        "\n",
        "* к каждому заданию должен быть приложен код проекта, выложенный на Github (если вы пользуетесь ScraperAPI или другими ключами, то ключи необходимо убирать)\n",
        "\n",
        "* Оценивание будет происзодить в первую очередь по функциональности - все ли работает и работает так, как должно (но за полное отсутствие стиля мы будем снижать)\n",
        "\n",
        "P.S. В данном задании вам не потребуется ScraperAPI :з\n",
        "\n",
        "**Любые extra-вещи будут оцениваться в плюс как доп баллы**"
      ],
      "metadata": {
        "id": "rvIl1icooicD"
      }
    },
    {
      "cell_type": "markdown",
      "source": [
        "## Задание 1 (3 балла)"
      ],
      "metadata": {
        "id": "-kAwYv9PrIJz"
      }
    },
    {
      "cell_type": "markdown",
      "source": [
        "Парсим [Steam](https://store.steampowered.com/) с помощью Scrapy!\n",
        "\n",
        "Необходимо выбрать 3 запроса (например, \"инди\", \"стратегии\", \"minecraft\", на каждый запрос должно быть минимум 90 результатов), и вытащить по ним:\n",
        "\n",
        "* Все игры на первых 2 страницах (найдите, каким образом отображаются страницы)\n",
        "\n",
        "И для каждой игры вытащить:\n",
        "\n",
        "* Название\n",
        "\n",
        "* Категорию (весь путь, за исключением Все игры и самого названия игры)\n",
        "\n",
        "* Число всех обзоров и общая оценка\n",
        "\n",
        "* Дата выхода\n",
        "\n",
        "* Разработчик\n",
        "\n",
        "* Метки (тэги) игры\n",
        "\n",
        "* Цена\n",
        "\n",
        "* Доступные платформы\n",
        "\n",
        "Сохраните игры в формате json, оставив только игры, выпущенные после 2000 года\n",
        "\n",
        "Чтобы было проще, в репозитории с ДЗ выложены скрины, где можно посмотреть, где и какие поля находятся\n",
        "\n"
      ],
      "metadata": {
        "id": "yowliMx-rtYN"
      }
    },
    {
      "cell_type": "code",
      "execution_count": 1,
      "metadata": {
        "id": "phKF5yNMoYxk",
        "outputId": "617674d3-b075-4733-d0b9-9ffdee0115e3",
        "colab": {
          "base_uri": "https://localhost:8080/",
          "height": 133
        }
      },
      "outputs": [
        {
          "output_type": "error",
          "ename": "SyntaxError",
          "evalue": "ignored",
          "traceback": [
            "\u001b[0;36m  File \u001b[0;32m\"<ipython-input-1-dc3ca1634f8f>\"\u001b[0;36m, line \u001b[0;32m1\u001b[0m\n\u001b[0;31m    Ссылка на репо https://github.com/Minhojkhon/scrapy-parser\u001b[0m\n\u001b[0m           ^\u001b[0m\n\u001b[0;31mSyntaxError\u001b[0m\u001b[0;31m:\u001b[0m invalid syntax\n"
          ]
        }
      ],
      "source": [
        "Ссылка на репо https://github.com/Minhojkhon/scrapy-parser\n",
        "Мой тг @minhojkhon на всякий"
      ]
    },
    {
      "cell_type": "markdown",
      "source": [
        "## Задание 2 (4 балла)"
      ],
      "metadata": {
        "id": "CY1K_uvOrLJs"
      }
    },
    {
      "cell_type": "markdown",
      "source": [
        "Создайте сайт с помощью Flask или Django. Будем делать конструктор резюме!\n",
        "\n",
        "Общая структура сайта:\n",
        "\n",
        "1. Страничка с авторизацией и регистрацией\n",
        "\n",
        "2. После авторизации, должна быть страница с формой, в которой необходимо заполнить форму (если пользователь уже заполнял форму, то в формы уже должен быть подгружен текст, который был заполнен, для этого должна быть отдельная кнопочка для сохранения в черновик)\n",
        "\n",
        "3. Страница со скоинструированным резюме, который может быть превращен в PDF и выгружен (для этого можно использовать [pdfkit](https://pypi.org/project/pdfkit/))\n",
        "\n",
        "На всякий случай: пользователь не может посмотреть чужие резюме"
      ],
      "metadata": {
        "id": "QxqzhOMnvKV2"
      }
    },
    {
      "cell_type": "code",
      "source": [
        "Ссылка на репо https://github.com/Minhojkhon/resume\n",
        "Тут есть загрузка фото, но я не успел выложить в yandex cloud"
      ],
      "metadata": {
        "id": "CJ4o2WKxrOGC",
        "outputId": "3fc04aff-2498-46f4-abd4-d0897afa6a2f",
        "colab": {
          "base_uri": "https://localhost:8080/",
          "height": 133
        }
      },
      "execution_count": 5,
      "outputs": [
        {
          "output_type": "error",
          "ename": "SyntaxError",
          "evalue": "ignored",
          "traceback": [
            "\u001b[0;36m  File \u001b[0;32m\"<ipython-input-5-1ba00fe3303f>\"\u001b[0;36m, line \u001b[0;32m1\u001b[0m\n\u001b[0;31m    Ссылка на репо https://github.com/Minhojkhon/resume\u001b[0m\n\u001b[0m           ^\u001b[0m\n\u001b[0;31mSyntaxError\u001b[0m\u001b[0;31m:\u001b[0m invalid syntax\n"
          ]
        }
      ]
    },
    {
      "cell_type": "markdown",
      "source": [
        "## Задание 3* (2 балла)\n",
        "\n",
        "Добавьте возможность загрузить картинку в резюме (для исходного задания это не требуется)\n",
        "\n",
        "Разверните приложение на Yandex.Cloud или на любом другом хосте (если знаете куда можно)\n",
        "\n",
        "Ссылка на репо https://github.com/Minhojkhon/resume\n",
        "Тут есть загрузка фото, но я не успел выложить в yandex cloud\n"
      ],
      "metadata": {
        "id": "C5C8395jyD4q"
      }
    },
    {
      "cell_type": "markdown",
      "source": [
        "## Задание 4 (3 балла)"
      ],
      "metadata": {
        "id": "gwDi1HLorOkc"
      }
    },
    {
      "cell_type": "markdown",
      "source": [
        "Отрисуйте с помощью Dash или StreamLit данные из данного [датасета](https://www.kaggle.com/datasets/michaelbryantds/crimedata)\n",
        "\n",
        "Здесь необходимо провести самостоятельный анализ данных (можно даже в ноутбуке), в качестве результата необходим дашборд, внутри которого будет:\n",
        "\n",
        "* Не менее 5 селекторов\n",
        "\n",
        "* Не менее 5 различных графиков, которые показывали бы зависимость между преступлениями (на ваш выбор, там можно выбрать) и выбранными вами показателями\n",
        "\n",
        "Дашборд должен быть стилистически оформлен"
      ],
      "metadata": {
        "id": "8uCXyKzpwst9"
      }
    },
    {
      "cell_type": "code",
      "source": [],
      "metadata": {
        "id": "ap6d3GdNwtUH"
      },
      "execution_count": null,
      "outputs": []
    }
  ]
}